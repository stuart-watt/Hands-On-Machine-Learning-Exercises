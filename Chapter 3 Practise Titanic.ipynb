{
 "cells": [
  {
   "cell_type": "markdown",
   "metadata": {},
   "source": [
    "# Titanic dataset\n",
    "\n",
    "In this notebook, I practise the techniques for building a classification model. I will use the Titanic dataset to try and predict whether or not a passenger survives the disaster based on some features.\n",
    "\n",
    "This dataset acn be found at https://www.kaggle.com/c/titanic\n",
    "\n",
    "To begin with lets import the training and test sets and have a look at the training data. These are already split for us so we don't have to."
   ]
  },
  {
   "cell_type": "code",
   "execution_count": 1,
   "metadata": {},
   "outputs": [],
   "source": [
    "import pandas as pd\n",
    "import numpy as np\n",
    "import matplotlib.pyplot as plt\n",
    "%matplotlib inline"
   ]
  },
  {
   "cell_type": "code",
   "execution_count": 2,
   "metadata": {},
   "outputs": [],
   "source": [
    "train = pd.read_csv(\"datasets/titanic/train.csv\")\n",
    "test = pd.read_csv(\"datasets/titanic/test.csv\")"
   ]
  },
  {
   "cell_type": "code",
   "execution_count": 3,
   "metadata": {},
   "outputs": [
    {
     "name": "stdout",
     "output_type": "stream",
     "text": [
      "<class 'pandas.core.frame.DataFrame'>\n",
      "RangeIndex: 891 entries, 0 to 890\n",
      "Data columns (total 12 columns):\n",
      "PassengerId    891 non-null int64\n",
      "Survived       891 non-null int64\n",
      "Pclass         891 non-null int64\n",
      "Name           891 non-null object\n",
      "Sex            891 non-null object\n",
      "Age            714 non-null float64\n",
      "SibSp          891 non-null int64\n",
      "Parch          891 non-null int64\n",
      "Ticket         891 non-null object\n",
      "Fare           891 non-null float64\n",
      "Cabin          204 non-null object\n",
      "Embarked       889 non-null object\n",
      "dtypes: float64(2), int64(5), object(5)\n",
      "memory usage: 83.6+ KB\n"
     ]
    }
   ],
   "source": [
    "train.info()"
   ]
  },
  {
   "cell_type": "markdown",
   "metadata": {},
   "source": [
    "We see that there are 11 features and 1 class (survived). There are 891 instances. All the feature columns are full except for Age, Cabin and Embarked. Since the Age and Embarked attributes are almost full, we will try to fill them in using some of the other features (try to find some correlations or use the mean values) Since the cabin feature is only about 25% full, we will drop this feature for now.\n",
    "\n",
    "Now lets separate the training data into the features and labels:"
   ]
  },
  {
   "cell_type": "code",
   "execution_count": 4,
   "metadata": {},
   "outputs": [],
   "source": [
    "X_train = train.drop('Survived', axis=1)\n",
    "y_train = train['Survived']"
   ]
  },
  {
   "cell_type": "code",
   "execution_count": 5,
   "metadata": {},
   "outputs": [
    {
     "data": {
      "text/html": [
       "<div>\n",
       "<style scoped>\n",
       "    .dataframe tbody tr th:only-of-type {\n",
       "        vertical-align: middle;\n",
       "    }\n",
       "\n",
       "    .dataframe tbody tr th {\n",
       "        vertical-align: top;\n",
       "    }\n",
       "\n",
       "    .dataframe thead th {\n",
       "        text-align: right;\n",
       "    }\n",
       "</style>\n",
       "<table border=\"1\" class=\"dataframe\">\n",
       "  <thead>\n",
       "    <tr style=\"text-align: right;\">\n",
       "      <th></th>\n",
       "      <th>PassengerId</th>\n",
       "      <th>Pclass</th>\n",
       "      <th>Name</th>\n",
       "      <th>Sex</th>\n",
       "      <th>Age</th>\n",
       "      <th>SibSp</th>\n",
       "      <th>Parch</th>\n",
       "      <th>Ticket</th>\n",
       "      <th>Fare</th>\n",
       "      <th>Cabin</th>\n",
       "      <th>Embarked</th>\n",
       "    </tr>\n",
       "  </thead>\n",
       "  <tbody>\n",
       "    <tr>\n",
       "      <th>0</th>\n",
       "      <td>1</td>\n",
       "      <td>3</td>\n",
       "      <td>Braund, Mr. Owen Harris</td>\n",
       "      <td>male</td>\n",
       "      <td>22.0</td>\n",
       "      <td>1</td>\n",
       "      <td>0</td>\n",
       "      <td>A/5 21171</td>\n",
       "      <td>7.2500</td>\n",
       "      <td>NaN</td>\n",
       "      <td>S</td>\n",
       "    </tr>\n",
       "    <tr>\n",
       "      <th>1</th>\n",
       "      <td>2</td>\n",
       "      <td>1</td>\n",
       "      <td>Cumings, Mrs. John Bradley (Florence Briggs Th...</td>\n",
       "      <td>female</td>\n",
       "      <td>38.0</td>\n",
       "      <td>1</td>\n",
       "      <td>0</td>\n",
       "      <td>PC 17599</td>\n",
       "      <td>71.2833</td>\n",
       "      <td>C85</td>\n",
       "      <td>C</td>\n",
       "    </tr>\n",
       "    <tr>\n",
       "      <th>2</th>\n",
       "      <td>3</td>\n",
       "      <td>3</td>\n",
       "      <td>Heikkinen, Miss. Laina</td>\n",
       "      <td>female</td>\n",
       "      <td>26.0</td>\n",
       "      <td>0</td>\n",
       "      <td>0</td>\n",
       "      <td>STON/O2. 3101282</td>\n",
       "      <td>7.9250</td>\n",
       "      <td>NaN</td>\n",
       "      <td>S</td>\n",
       "    </tr>\n",
       "    <tr>\n",
       "      <th>3</th>\n",
       "      <td>4</td>\n",
       "      <td>1</td>\n",
       "      <td>Futrelle, Mrs. Jacques Heath (Lily May Peel)</td>\n",
       "      <td>female</td>\n",
       "      <td>35.0</td>\n",
       "      <td>1</td>\n",
       "      <td>0</td>\n",
       "      <td>113803</td>\n",
       "      <td>53.1000</td>\n",
       "      <td>C123</td>\n",
       "      <td>S</td>\n",
       "    </tr>\n",
       "    <tr>\n",
       "      <th>4</th>\n",
       "      <td>5</td>\n",
       "      <td>3</td>\n",
       "      <td>Allen, Mr. William Henry</td>\n",
       "      <td>male</td>\n",
       "      <td>35.0</td>\n",
       "      <td>0</td>\n",
       "      <td>0</td>\n",
       "      <td>373450</td>\n",
       "      <td>8.0500</td>\n",
       "      <td>NaN</td>\n",
       "      <td>S</td>\n",
       "    </tr>\n",
       "    <tr>\n",
       "      <th>5</th>\n",
       "      <td>6</td>\n",
       "      <td>3</td>\n",
       "      <td>Moran, Mr. James</td>\n",
       "      <td>male</td>\n",
       "      <td>NaN</td>\n",
       "      <td>0</td>\n",
       "      <td>0</td>\n",
       "      <td>330877</td>\n",
       "      <td>8.4583</td>\n",
       "      <td>NaN</td>\n",
       "      <td>Q</td>\n",
       "    </tr>\n",
       "    <tr>\n",
       "      <th>6</th>\n",
       "      <td>7</td>\n",
       "      <td>1</td>\n",
       "      <td>McCarthy, Mr. Timothy J</td>\n",
       "      <td>male</td>\n",
       "      <td>54.0</td>\n",
       "      <td>0</td>\n",
       "      <td>0</td>\n",
       "      <td>17463</td>\n",
       "      <td>51.8625</td>\n",
       "      <td>E46</td>\n",
       "      <td>S</td>\n",
       "    </tr>\n",
       "    <tr>\n",
       "      <th>7</th>\n",
       "      <td>8</td>\n",
       "      <td>3</td>\n",
       "      <td>Palsson, Master. Gosta Leonard</td>\n",
       "      <td>male</td>\n",
       "      <td>2.0</td>\n",
       "      <td>3</td>\n",
       "      <td>1</td>\n",
       "      <td>349909</td>\n",
       "      <td>21.0750</td>\n",
       "      <td>NaN</td>\n",
       "      <td>S</td>\n",
       "    </tr>\n",
       "    <tr>\n",
       "      <th>8</th>\n",
       "      <td>9</td>\n",
       "      <td>3</td>\n",
       "      <td>Johnson, Mrs. Oscar W (Elisabeth Vilhelmina Berg)</td>\n",
       "      <td>female</td>\n",
       "      <td>27.0</td>\n",
       "      <td>0</td>\n",
       "      <td>2</td>\n",
       "      <td>347742</td>\n",
       "      <td>11.1333</td>\n",
       "      <td>NaN</td>\n",
       "      <td>S</td>\n",
       "    </tr>\n",
       "    <tr>\n",
       "      <th>9</th>\n",
       "      <td>10</td>\n",
       "      <td>2</td>\n",
       "      <td>Nasser, Mrs. Nicholas (Adele Achem)</td>\n",
       "      <td>female</td>\n",
       "      <td>14.0</td>\n",
       "      <td>1</td>\n",
       "      <td>0</td>\n",
       "      <td>237736</td>\n",
       "      <td>30.0708</td>\n",
       "      <td>NaN</td>\n",
       "      <td>C</td>\n",
       "    </tr>\n",
       "  </tbody>\n",
       "</table>\n",
       "</div>"
      ],
      "text/plain": [
       "   PassengerId  Pclass                                               Name  \\\n",
       "0            1       3                            Braund, Mr. Owen Harris   \n",
       "1            2       1  Cumings, Mrs. John Bradley (Florence Briggs Th...   \n",
       "2            3       3                             Heikkinen, Miss. Laina   \n",
       "3            4       1       Futrelle, Mrs. Jacques Heath (Lily May Peel)   \n",
       "4            5       3                           Allen, Mr. William Henry   \n",
       "5            6       3                                   Moran, Mr. James   \n",
       "6            7       1                            McCarthy, Mr. Timothy J   \n",
       "7            8       3                     Palsson, Master. Gosta Leonard   \n",
       "8            9       3  Johnson, Mrs. Oscar W (Elisabeth Vilhelmina Berg)   \n",
       "9           10       2                Nasser, Mrs. Nicholas (Adele Achem)   \n",
       "\n",
       "      Sex   Age  SibSp  Parch            Ticket     Fare Cabin Embarked  \n",
       "0    male  22.0      1      0         A/5 21171   7.2500   NaN        S  \n",
       "1  female  38.0      1      0          PC 17599  71.2833   C85        C  \n",
       "2  female  26.0      0      0  STON/O2. 3101282   7.9250   NaN        S  \n",
       "3  female  35.0      1      0            113803  53.1000  C123        S  \n",
       "4    male  35.0      0      0            373450   8.0500   NaN        S  \n",
       "5    male   NaN      0      0            330877   8.4583   NaN        Q  \n",
       "6    male  54.0      0      0             17463  51.8625   E46        S  \n",
       "7    male   2.0      3      1            349909  21.0750   NaN        S  \n",
       "8  female  27.0      0      2            347742  11.1333   NaN        S  \n",
       "9  female  14.0      1      0            237736  30.0708   NaN        C  "
      ]
     },
     "execution_count": 5,
     "metadata": {},
     "output_type": "execute_result"
    }
   ],
   "source": [
    "X_train.head(10)"
   ]
  },
  {
   "cell_type": "markdown",
   "metadata": {},
   "source": [
    "The categories for sex and Embarked will need to be encoded, using binary encoding for Sex (0 for male, 1 for female) and one-hot-encoding for Embarked. Also, passenger ID is not an attribute we want to train the data on, so we will drop this attribute as well as cabin. Since the Ticket number is also seeminly random and unstructured, we will drop this column also.\n",
    "\n",
    "So the final dataset has the attributes:\n",
    "\n",
    "PClass, Sex, Age, SibSp, Parch, Fare, Embarked"
   ]
  },
  {
   "cell_type": "code",
   "execution_count": 6,
   "metadata": {},
   "outputs": [
    {
     "data": {
      "text/html": [
       "<div>\n",
       "<style scoped>\n",
       "    .dataframe tbody tr th:only-of-type {\n",
       "        vertical-align: middle;\n",
       "    }\n",
       "\n",
       "    .dataframe tbody tr th {\n",
       "        vertical-align: top;\n",
       "    }\n",
       "\n",
       "    .dataframe thead th {\n",
       "        text-align: right;\n",
       "    }\n",
       "</style>\n",
       "<table border=\"1\" class=\"dataframe\">\n",
       "  <thead>\n",
       "    <tr style=\"text-align: right;\">\n",
       "      <th></th>\n",
       "      <th>Pclass</th>\n",
       "      <th>Sex</th>\n",
       "      <th>Age</th>\n",
       "      <th>SibSp</th>\n",
       "      <th>Parch</th>\n",
       "      <th>Fare</th>\n",
       "      <th>Embarked</th>\n",
       "    </tr>\n",
       "  </thead>\n",
       "  <tbody>\n",
       "    <tr>\n",
       "      <th>0</th>\n",
       "      <td>3</td>\n",
       "      <td>male</td>\n",
       "      <td>22.0</td>\n",
       "      <td>1</td>\n",
       "      <td>0</td>\n",
       "      <td>7.2500</td>\n",
       "      <td>S</td>\n",
       "    </tr>\n",
       "    <tr>\n",
       "      <th>1</th>\n",
       "      <td>1</td>\n",
       "      <td>female</td>\n",
       "      <td>38.0</td>\n",
       "      <td>1</td>\n",
       "      <td>0</td>\n",
       "      <td>71.2833</td>\n",
       "      <td>C</td>\n",
       "    </tr>\n",
       "    <tr>\n",
       "      <th>2</th>\n",
       "      <td>3</td>\n",
       "      <td>female</td>\n",
       "      <td>26.0</td>\n",
       "      <td>0</td>\n",
       "      <td>0</td>\n",
       "      <td>7.9250</td>\n",
       "      <td>S</td>\n",
       "    </tr>\n",
       "    <tr>\n",
       "      <th>3</th>\n",
       "      <td>1</td>\n",
       "      <td>female</td>\n",
       "      <td>35.0</td>\n",
       "      <td>1</td>\n",
       "      <td>0</td>\n",
       "      <td>53.1000</td>\n",
       "      <td>S</td>\n",
       "    </tr>\n",
       "    <tr>\n",
       "      <th>4</th>\n",
       "      <td>3</td>\n",
       "      <td>male</td>\n",
       "      <td>35.0</td>\n",
       "      <td>0</td>\n",
       "      <td>0</td>\n",
       "      <td>8.0500</td>\n",
       "      <td>S</td>\n",
       "    </tr>\n",
       "  </tbody>\n",
       "</table>\n",
       "</div>"
      ],
      "text/plain": [
       "   Pclass     Sex   Age  SibSp  Parch     Fare Embarked\n",
       "0       3    male  22.0      1      0   7.2500        S\n",
       "1       1  female  38.0      1      0  71.2833        C\n",
       "2       3  female  26.0      0      0   7.9250        S\n",
       "3       1  female  35.0      1      0  53.1000        S\n",
       "4       3    male  35.0      0      0   8.0500        S"
      ]
     },
     "execution_count": 6,
     "metadata": {},
     "output_type": "execute_result"
    }
   ],
   "source": [
    "X_train_reduced = X_train[['Pclass', 'Sex', 'Age', 'SibSp', 'Parch', 'Fare', 'Embarked']]\n",
    "X_train_reduced.head()"
   ]
  },
  {
   "cell_type": "markdown",
   "metadata": {},
   "source": [
    "Lets create a class to select the attributes we want so we can put it into a pipeline for the test set. We will also drop any instances with NaN values in the categorical data columns (Sex and Embarked):"
   ]
  },
  {
   "cell_type": "code",
   "execution_count": 7,
   "metadata": {},
   "outputs": [
    {
     "name": "stdout",
     "output_type": "stream",
     "text": [
      "<class 'pandas.core.frame.DataFrame'>\n",
      "Int64Index: 889 entries, 0 to 890\n",
      "Data columns (total 12 columns):\n",
      "PassengerId    889 non-null int64\n",
      "Survived       889 non-null int64\n",
      "Pclass         889 non-null int64\n",
      "Name           889 non-null object\n",
      "Sex            889 non-null object\n",
      "Age            712 non-null float64\n",
      "SibSp          889 non-null int64\n",
      "Parch          889 non-null int64\n",
      "Ticket         889 non-null object\n",
      "Fare           889 non-null float64\n",
      "Cabin          202 non-null object\n",
      "Embarked       889 non-null object\n",
      "dtypes: float64(2), int64(5), object(5)\n",
      "memory usage: 90.3+ KB\n"
     ]
    }
   ],
   "source": [
    "from sklearn.base import BaseEstimator, TransformerMixin\n",
    "\n",
    "X_attr = ['Pclass', 'Sex', 'Age', 'SibSp', 'Parch', 'Fare', 'Embarked']\n",
    "y_attr = ['Survived']\n",
    "\n",
    "class AttributeSelector(BaseEstimator, TransformerMixin):\n",
    "    \n",
    "    def __init__(self, attributes):\n",
    "        self.attributes = attributes\n",
    "        \n",
    "    def fit(self):\n",
    "        return self\n",
    "    \n",
    "    def transform(self, X, y=None):\n",
    "        return X[self.attributes]\n",
    "    \n",
    "    def fit_transform(self, X, y=None):\n",
    "        return X[self.attributes]\n",
    "    \n",
    "\n",
    "train.dropna(subset=['Sex', 'Embarked'], inplace=True)\n",
    "train.info()\n",
    "\n",
    "attrib_select_X = AttributeSelector(X_attr)\n",
    "attrib_select_y = AttributeSelector(y_attr)\n",
    "\n",
    "X_train = attrib_select_X.transform(train)\n",
    "y_train = attrib_select_y.transform(train)"
   ]
  },
  {
   "cell_type": "code",
   "execution_count": 8,
   "metadata": {},
   "outputs": [
    {
     "name": "stdout",
     "output_type": "stream",
     "text": [
      "<class 'pandas.core.frame.DataFrame'>\n",
      "Int64Index: 889 entries, 0 to 890\n",
      "Data columns (total 7 columns):\n",
      "Pclass      889 non-null int64\n",
      "Sex         889 non-null object\n",
      "Age         712 non-null float64\n",
      "SibSp       889 non-null int64\n",
      "Parch       889 non-null int64\n",
      "Fare        889 non-null float64\n",
      "Embarked    889 non-null object\n",
      "dtypes: float64(2), int64(3), object(2)\n",
      "memory usage: 55.6+ KB\n"
     ]
    }
   ],
   "source": [
    "X_train.info()"
   ]
  },
  {
   "cell_type": "markdown",
   "metadata": {},
   "source": [
    "Now we need to deal with missing values. For the age, we will simply use the mean value:"
   ]
  },
  {
   "cell_type": "code",
   "execution_count": 9,
   "metadata": {},
   "outputs": [],
   "source": [
    "from sklearn.preprocessing import Imputer, StandardScaler\n",
    "\n",
    "num_attributes = X_train[['Pclass', 'Age', 'SibSp', 'Parch', 'Fare']]\n",
    "imputer = Imputer(strategy=\"mean\")\n",
    "\n",
    "num_attributes = imputer.fit_transform(num_attributes)\n",
    "\n",
    "scaler = StandardScaler()\n",
    "\n",
    "num_attributes = scaler.fit_transform(num_attributes)"
   ]
  },
  {
   "cell_type": "markdown",
   "metadata": {},
   "source": [
    "We also need to encode the categorical data:"
   ]
  },
  {
   "cell_type": "code",
   "execution_count": 10,
   "metadata": {},
   "outputs": [],
   "source": [
    "from sklearn.preprocessing import LabelEncoder\n",
    "from sklearn.preprocessing import OneHotEncoder\n",
    "\n",
    "sex = X_train['Sex'].values\n",
    "sex_encoder = LabelEncoder()\n",
    "sex_encoded = sex_encoder.fit_transform(sex)\n",
    "\n",
    "embarked = X_train['Embarked'].values\n",
    "embarked_encoder = LabelEncoder()\n",
    "embarked_encoded = embarked_encoder.fit_transform(embarked)\n",
    "\n",
    "onehot = OneHotEncoder(sparse=False)\n",
    "embarked_encoded = onehot.fit_transform(embarked_encoded.reshape(-1, 1))[:, :-1]\n",
    "# I dropped one of the embarked columns since one of the classes is a dummy variable."
   ]
  },
  {
   "cell_type": "code",
   "execution_count": 11,
   "metadata": {},
   "outputs": [
    {
     "data": {
      "text/plain": [
       "array([[0., 0.],\n",
       "       [1., 0.],\n",
       "       [0., 0.],\n",
       "       ...,\n",
       "       [0., 0.],\n",
       "       [1., 0.],\n",
       "       [0., 1.]])"
      ]
     },
     "execution_count": 11,
     "metadata": {},
     "output_type": "execute_result"
    }
   ],
   "source": [
    "embarked_encoded"
   ]
  },
  {
   "cell_type": "code",
   "execution_count": 12,
   "metadata": {},
   "outputs": [
    {
     "data": {
      "text/plain": [
       "array([ 0.82520863, -0.58961986,  0.43135024, -0.47432585, -0.50023975,\n",
       "        1.        ,  0.        ,  0.        ])"
      ]
     },
     "execution_count": 12,
     "metadata": {},
     "output_type": "execute_result"
    }
   ],
   "source": [
    "X_train_clean = np.c_[num_attributes, sex_encoded, embarked_encoded]\n",
    "X_train_clean[0, :]"
   ]
  },
  {
   "cell_type": "code",
   "execution_count": 13,
   "metadata": {},
   "outputs": [
    {
     "name": "stdout",
     "output_type": "stream",
     "text": [
      "(889, 8) (889, 1)\n"
     ]
    }
   ],
   "source": [
    "print(X_train_clean.shape, y_train.shape)"
   ]
  },
  {
   "cell_type": "markdown",
   "metadata": {},
   "source": [
    "Ok, now the trainnig data is all prepared. We can now start to choose our models. This is a binary classification task. The models I will investigate are:\n",
    "\n",
    "1. SGDClassifier\n",
    "2. RandomForestClassifier\n",
    "\n",
    "I will use the precision, reacll and accuracy to evaluate each model and to tune the hyperparameters. \n",
    "\n",
    "To begin with, I will combine all the data prep stages into a single pipeline so preparing the test set will be easy.\n",
    "\n",
    "#### Pipeline"
   ]
  },
  {
   "cell_type": "code",
   "execution_count": 14,
   "metadata": {},
   "outputs": [],
   "source": [
    "from sklearn.pipeline import Pipeline, FeatureUnion\n",
    "\n",
    "num_attr = ['Pclass', 'Age', 'SibSp', 'Parch', 'Fare']\n",
    "sex_attr = ['Sex']\n",
    "emb_attr = ['Embarked']\n",
    "\n",
    "# Create a transformer to drop instances of NaN\n",
    "class DropInstance(BaseEstimator, TransformerMixin):\n",
    "    \n",
    "    def transform(self, X, attributes, y=None):\n",
    "        return X.dropna(subset=attributes)\n",
    "    \n",
    "    def fit_transform(self, X, attributes, y=None):\n",
    "        return X.dropna(subset=attributes)\n",
    "    \n",
    "\n",
    "# Modified label encoder to feed into onehot encoder\n",
    "class ModifiedLabelEncoder(LabelEncoder):\n",
    "\n",
    "    def fit_transform(self, y, *args, **kwargs):\n",
    "        return super().fit_transform(y.values.ravel()).reshape(-1, 1)\n",
    "\n",
    "    def transform(self, y, *args, **kwargs):\n",
    "        return super().transform(y.values.ravel()).reshape(-1, 1)\n",
    "    \n",
    "\n",
    "# Modified onehot encoder to delete dummy variable\n",
    "class ModifiedOneHot(OneHotEncoder):\n",
    "    \n",
    "    def fit_transform(self, y, *args, **kwargs):\n",
    "        return super().fit_transform(y)[:, :-1]\n",
    "\n",
    "    def transform(self, y, *args, **kwargs):\n",
    "        return super().transform(y)[:, :-1]\n",
    "\n",
    "    \n",
    "num_pipeline = Pipeline([\n",
    "    ('Selector', AttributeSelector(num_attr)),\n",
    "    ('imputer', Imputer(strategy=\"mean\")),\n",
    "    ('scaler', StandardScaler()),\n",
    "])\n",
    "\n",
    "sex_pipeline = Pipeline([\n",
    "    ('Selector', AttributeSelector(sex_attr)),\n",
    "    ('encoder', ModifiedLabelEncoder()),\n",
    "])\n",
    "\n",
    "emb_pipeline = Pipeline([\n",
    "    ('Selector', AttributeSelector(emb_attr)),\n",
    "    ('encoder', ModifiedLabelEncoder()),\n",
    "    ('onehotencoder', ModifiedOneHot(sparse=False)),\n",
    "])\n",
    "\n",
    "full_pipeline_X = FeatureUnion(transformer_list=[\n",
    "    ('num_pipeline', num_pipeline),\n",
    "    ('sex_pipeline', sex_pipeline),\n",
    "    ('emb_piepline', emb_pipeline),\n",
    "])\n",
    "\n",
    "titanic_prepared = full_pipeline_X.fit_transform(X_train)"
   ]
  },
  {
   "cell_type": "markdown",
   "metadata": {},
   "source": [
    "#### SGDClassifier:"
   ]
  },
  {
   "cell_type": "code",
   "execution_count": 28,
   "metadata": {},
   "outputs": [],
   "source": [
    "from sklearn.linear_model import SGDClassifier\n",
    "from sklearn.model_selection import cross_val_score, cross_val_predict\n",
    "\n",
    "sgd_clf = SGDClassifier(max_iter=5, tol=None)\n",
    "\n",
    "scores = cross_val_score(sgd_clf, titanic_prepared, y_train.values.ravel(), cv=3, scoring='accuracy')"
   ]
  },
  {
   "cell_type": "code",
   "execution_count": 29,
   "metadata": {},
   "outputs": [
    {
     "data": {
      "text/plain": [
       "array([0.69360269, 0.71959459, 0.67567568])"
      ]
     },
     "execution_count": 29,
     "metadata": {},
     "output_type": "execute_result"
    }
   ],
   "source": [
    "scores"
   ]
  },
  {
   "cell_type": "markdown",
   "metadata": {},
   "source": [
    "For starters, these accuracy scores are quite low. Lets look at the confusion matrix:"
   ]
  },
  {
   "cell_type": "code",
   "execution_count": 36,
   "metadata": {},
   "outputs": [
    {
     "data": {
      "text/plain": [
       "array([[410, 139],\n",
       "       [112, 228]], dtype=int64)"
      ]
     },
     "execution_count": 36,
     "metadata": {},
     "output_type": "execute_result"
    }
   ],
   "source": [
    "from sklearn.metrics import confusion_matrix\n",
    "\n",
    "y_pred = cross_val_predict(sgd_clf, titanic_prepared, y_train.values.ravel(), cv=3)\n",
    "\n",
    "sgd_conf = confusion_matrix(y_train, y_pred)\n",
    "sgd_conf"
   ]
  },
  {
   "cell_type": "markdown",
   "metadata": {},
   "source": [
    "Lets also look at the precision and recall scores:"
   ]
  },
  {
   "cell_type": "code",
   "execution_count": 43,
   "metadata": {},
   "outputs": [
    {
     "name": "stdout",
     "output_type": "stream",
     "text": [
      "Precision:  0.6212534059945504 \n",
      "Recall:  0.6705882352941176 \n",
      "F1 Score:  0.6449787835926449\n"
     ]
    }
   ],
   "source": [
    "from sklearn.metrics import precision_score, recall_score, f1_score\n",
    "\n",
    "print('Precision: ',\n",
    "      precision_score(y_train, y_pred),\n",
    "      '\\nRecall: ',\n",
    "      recall_score(y_train, y_pred),\n",
    "      '\\nF1 Score: ',\n",
    "      f1_score(y_train, y_pred)\n",
    "     )"
   ]
  },
  {
   "cell_type": "markdown",
   "metadata": {},
   "source": [
    "These are similarly bad. This indicates that the linear classifier is perhaps not suited to this data set. Lets use a random forest instead.\n",
    "\n",
    "#### Random Forest"
   ]
  },
  {
   "cell_type": "code",
   "execution_count": 63,
   "metadata": {},
   "outputs": [
    {
     "data": {
      "text/plain": [
       "array([0.76430976, 0.78040541, 0.78378378])"
      ]
     },
     "execution_count": 63,
     "metadata": {},
     "output_type": "execute_result"
    }
   ],
   "source": [
    "from sklearn.ensemble import RandomForestClassifier\n",
    "\n",
    "forest_clf = RandomForestClassifier(n_estimators=10)\n",
    "\n",
    "scores_forest = cross_val_score(forest_clf, titanic_prepared, y_train.values.ravel(), cv=3, scoring='accuracy')\n",
    "scores_forest"
   ]
  },
  {
   "cell_type": "code",
   "execution_count": 64,
   "metadata": {},
   "outputs": [
    {
     "name": "stdout",
     "output_type": "stream",
     "text": [
      "Precision:  0.7639344262295082 \n",
      "Recall:  0.6852941176470588 \n",
      "F1 Score:  0.7224806201550387\n"
     ]
    }
   ],
   "source": [
    "y_pred_forest = cross_val_predict(forest_clf, titanic_prepared, y_train.values.ravel(), cv=3)\n",
    "\n",
    "print('Precision: ',\n",
    "      precision_score(y_train, y_pred_forest),\n",
    "      '\\nRecall: ',\n",
    "      recall_score(y_train, y_pred_forest),\n",
    "      '\\nF1 Score: ',\n",
    "      f1_score(y_train, y_pred_forest)\n",
    "     )"
   ]
  },
  {
   "cell_type": "code",
   "execution_count": 65,
   "metadata": {},
   "outputs": [
    {
     "data": {
      "text/plain": [
       "array([[477,  72],\n",
       "       [107, 233]], dtype=int64)"
      ]
     },
     "execution_count": 65,
     "metadata": {},
     "output_type": "execute_result"
    }
   ],
   "source": [
    "forest_conf = confusion_matrix(y_train, y_pred_forest)\n",
    "forest_conf"
   ]
  },
  {
   "cell_type": "markdown",
   "metadata": {},
   "source": [
    "This model performs significantly better than the SGDClassifier. The recall is approximately the same however. THis means that the model got better at recognising non-survivor but not better at recognising survivors. Overall, there is improvement. Lets now try to tune the hyperparameters:"
   ]
  },
  {
   "cell_type": "code",
   "execution_count": 66,
   "metadata": {},
   "outputs": [
    {
     "data": {
      "text/plain": [
       "GridSearchCV(cv=3, error_score='raise',\n",
       "       estimator=RandomForestClassifier(bootstrap=True, class_weight=None, criterion='gini',\n",
       "            max_depth=None, max_features='auto', max_leaf_nodes=None,\n",
       "            min_impurity_decrease=0.0, min_impurity_split=None,\n",
       "            min_samples_leaf=1, min_samples_split=2,\n",
       "            min_weight_fraction_leaf=0.0, n_estimators=10, n_jobs=1,\n",
       "            oob_score=False, random_state=None, verbose=0,\n",
       "            warm_start=False),\n",
       "       fit_params=None, iid=True, n_jobs=1,\n",
       "       param_grid=[{'n_estimators': [10, 20, 30, 40, 50], 'max_features': [2, 4, 6, 8]}],\n",
       "       pre_dispatch='2*n_jobs', refit=True, return_train_score='warn',\n",
       "       scoring='accuracy', verbose=0)"
      ]
     },
     "execution_count": 66,
     "metadata": {},
     "output_type": "execute_result"
    }
   ],
   "source": [
    "from sklearn.model_selection import GridSearchCV\n",
    "\n",
    "params = [\n",
    "    {'n_estimators': [10, 20, 30, 40, 50], 'max_features': [2, 4, 6, 8]},\n",
    "]\n",
    "grid_search = GridSearchCV(forest_clf, param_grid=params, cv=3, scoring='accuracy')\n",
    "grid_search.fit(titanic_prepared, y_train.values.ravel())"
   ]
  },
  {
   "cell_type": "code",
   "execution_count": 67,
   "metadata": {},
   "outputs": [
    {
     "data": {
      "text/plain": [
       "RandomForestClassifier(bootstrap=True, class_weight=None, criterion='gini',\n",
       "            max_depth=None, max_features=4, max_leaf_nodes=None,\n",
       "            min_impurity_decrease=0.0, min_impurity_split=None,\n",
       "            min_samples_leaf=1, min_samples_split=2,\n",
       "            min_weight_fraction_leaf=0.0, n_estimators=20, n_jobs=1,\n",
       "            oob_score=False, random_state=None, verbose=0,\n",
       "            warm_start=False)"
      ]
     },
     "execution_count": 67,
     "metadata": {},
     "output_type": "execute_result"
    }
   ],
   "source": [
    "grid_search.best_estimator_"
   ]
  },
  {
   "cell_type": "code",
   "execution_count": 68,
   "metadata": {},
   "outputs": [
    {
     "name": "stdout",
     "output_type": "stream",
     "text": [
      "0.8835453686414151 {'max_features': 2, 'n_estimators': 10}\n",
      "0.886087950498142 {'max_features': 2, 'n_estimators': 20}\n",
      "0.8917822551223932 {'max_features': 2, 'n_estimators': 30}\n",
      "0.8917822551223932 {'max_features': 2, 'n_estimators': 40}\n",
      "0.8911513514317336 {'max_features': 2, 'n_estimators': 50}\n",
      "0.8898882021767978 {'max_features': 4, 'n_estimators': 10}\n",
      "0.9005684993642872 {'max_features': 4, 'n_estimators': 20}\n",
      "0.894301419053713 {'max_features': 4, 'n_estimators': 30}\n",
      "0.8955583436642398 {'max_features': 4, 'n_estimators': 40}\n",
      "0.8930427253700312 {'max_features': 4, 'n_estimators': 50}\n",
      "0.8968135066399192 {'max_features': 6, 'n_estimators': 10}\n",
      "0.8930427253700312 {'max_features': 6, 'n_estimators': 20}\n",
      "0.894301419053713 {'max_features': 6, 'n_estimators': 30}\n",
      "0.894301419053713 {'max_features': 6, 'n_estimators': 40}\n",
      "0.8930427253700312 {'max_features': 6, 'n_estimators': 50}\n",
      "0.8911513514317336 {'max_features': 8, 'n_estimators': 10}\n",
      "0.890520000766984 {'max_features': 8, 'n_estimators': 20}\n",
      "0.8911513514317336 {'max_features': 8, 'n_estimators': 30}\n",
      "0.8911513514317336 {'max_features': 8, 'n_estimators': 40}\n",
      "0.8961861448935777 {'max_features': 8, 'n_estimators': 50}\n"
     ]
    }
   ],
   "source": [
    "cvres = grid_search.cv_results_\n",
    "for mean_score, params in zip(cvres[\"mean_test_score\"], cvres[\"params\"]):\n",
    "    print(np.sqrt(mean_score), params)"
   ]
  },
  {
   "cell_type": "code",
   "execution_count": 71,
   "metadata": {},
   "outputs": [
    {
     "data": {
      "text/plain": [
       "array([0.07977406, 0.25918647, 0.04991073, 0.02922823, 0.27318708,\n",
       "       0.27707294, 0.02048972, 0.01115077])"
      ]
     },
     "execution_count": 71,
     "metadata": {},
     "output_type": "execute_result"
    }
   ],
   "source": [
    "best_forest = grid_search.best_estimator_\n",
    "best_forest.feature_importances_"
   ]
  },
  {
   "cell_type": "code",
   "execution_count": 73,
   "metadata": {},
   "outputs": [
    {
     "data": {
      "text/plain": [
       "[(0.2770729393478822, 'Sex'),\n",
       " (0.2731870816971812, 'Fare'),\n",
       " (0.2591864705258983, 'Age'),\n",
       " (0.0797740647656712, 'Pclass'),\n",
       " (0.04991072967527385, 'SibSp'),\n",
       " (0.02922822776057791, 'Parch'),\n",
       " (0.020489719214641176, 'Embarked1'),\n",
       " (0.0111507670128742, 'Embarked2')]"
      ]
     },
     "execution_count": 73,
     "metadata": {},
     "output_type": "execute_result"
    }
   ],
   "source": [
    "attributes = ['Pclass', 'Age', 'SibSp', 'Parch', 'Fare', 'Sex', 'Embarked1', 'Embarked2']\n",
    "\n",
    "sorted(zip(best_forest.feature_importances_, attributes), reverse=True)"
   ]
  },
  {
   "cell_type": "markdown",
   "metadata": {},
   "source": [
    "The most important attributes to the model are Sex, Fare (probably related to wealth and cabin location) and Age. Certainly, where they embarked from is not at all important. Because of this I will drop Embarked, Parch and SibSp from the dataset and train the model on this. "
   ]
  },
  {
   "cell_type": "code",
   "execution_count": 76,
   "metadata": {},
   "outputs": [],
   "source": [
    "important_num_attr = ['Pclass', 'Age', 'Fare']\n",
    "\n",
    "num_pipeline_new = Pipeline([\n",
    "    ('Selector', AttributeSelector(important_num_attr)),\n",
    "    ('imputer', Imputer(strategy=\"mean\")),\n",
    "    ('scaler', StandardScaler()),\n",
    "])\n",
    "\n",
    "sex_pipeline_new = Pipeline([\n",
    "    ('Selector', AttributeSelector(sex_attr)),\n",
    "    ('encoder', ModifiedLabelEncoder()),\n",
    "])\n",
    "\n",
    "new_pipeline = FeatureUnion(transformer_list=[\n",
    "    ('num_pipeline', num_pipeline_new),\n",
    "    ('sex_pipeline', sex_pipeline_new),\n",
    "])\n",
    "\n",
    "titanic_prepared_new = new_pipeline.fit_transform(X_train)"
   ]
  },
  {
   "cell_type": "code",
   "execution_count": 95,
   "metadata": {},
   "outputs": [
    {
     "data": {
      "text/plain": [
       "GridSearchCV(cv=3, error_score='raise',\n",
       "       estimator=RandomForestClassifier(bootstrap=True, class_weight=None, criterion='gini',\n",
       "            max_depth=None, max_features='auto', max_leaf_nodes=None,\n",
       "            min_impurity_decrease=0.0, min_impurity_split=None,\n",
       "            min_samples_leaf=1, min_samples_split=2,\n",
       "            min_weight_fraction_leaf=0.0, n_estimators=10, n_jobs=1,\n",
       "            oob_score=False, random_state=None, verbose=0,\n",
       "            warm_start=False),\n",
       "       fit_params=None, iid=True, n_jobs=1,\n",
       "       param_grid=[{'n_estimators': [30, 32, 34, 36, 38, 40], 'max_features': [2, 4]}],\n",
       "       pre_dispatch='2*n_jobs', refit=True, return_train_score='warn',\n",
       "       scoring='accuracy', verbose=0)"
      ]
     },
     "execution_count": 95,
     "metadata": {},
     "output_type": "execute_result"
    }
   ],
   "source": [
    "forest_clf = RandomForestClassifier()\n",
    "params = [\n",
    "    {'n_estimators': [30, 32, 34, 36, 38, 40], 'max_features': [2, 4]},\n",
    "]\n",
    "grid_search = GridSearchCV(forest_clf, param_grid=params, cv=3, scoring='accuracy')\n",
    "grid_search.fit(titanic_prepared_new, y_train.values.ravel())"
   ]
  },
  {
   "cell_type": "code",
   "execution_count": 96,
   "metadata": {},
   "outputs": [
    {
     "name": "stdout",
     "output_type": "stream",
     "text": [
      "0.8936722938129552 {'max_features': 2, 'n_estimators': 30}\n",
      "0.8949301020270023 {'max_features': 2, 'n_estimators': 32}\n",
      "0.8968135066399192 {'max_features': 2, 'n_estimators': 34}\n",
      "0.898066915367079 {'max_features': 2, 'n_estimators': 36}\n",
      "0.8955583436642398 {'max_features': 2, 'n_estimators': 38}\n",
      "0.8949301020270023 {'max_features': 2, 'n_estimators': 40}\n",
      "0.8848175728549054 {'max_features': 4, 'n_estimators': 30}\n",
      "0.894301419053713 {'max_features': 4, 'n_estimators': 32}\n",
      "0.8968135066399192 {'max_features': 4, 'n_estimators': 34}\n",
      "0.8911513514317336 {'max_features': 4, 'n_estimators': 36}\n",
      "0.890520000766984 {'max_features': 4, 'n_estimators': 38}\n",
      "0.8911513514317336 {'max_features': 4, 'n_estimators': 40}\n"
     ]
    }
   ],
   "source": [
    "cvres = grid_search.cv_results_\n",
    "for mean_score, params in zip(cvres[\"mean_test_score\"], cvres[\"params\"]):\n",
    "    print(np.sqrt(mean_score), params)"
   ]
  },
  {
   "cell_type": "code",
   "execution_count": 97,
   "metadata": {},
   "outputs": [],
   "source": [
    "forest_new = grid_search.best_estimator_"
   ]
  },
  {
   "cell_type": "markdown",
   "metadata": {},
   "source": [
    "So removing these features made no difference to the accuracy, as expected. We can now evaluate this model on the test set. First we need to pass the test set through the data prep stage."
   ]
  },
  {
   "cell_type": "code",
   "execution_count": 98,
   "metadata": {},
   "outputs": [],
   "source": [
    "X_test_prepared = new_pipeline.transform(test)"
   ]
  },
  {
   "cell_type": "code",
   "execution_count": 100,
   "metadata": {},
   "outputs": [],
   "source": [
    "test_pred = forest_new.predict(X_test_prepared)"
   ]
  },
  {
   "cell_type": "markdown",
   "metadata": {},
   "source": [
    "To see if the model predicted correctly, we need to import the results into Kaggle."
   ]
  },
  {
   "cell_type": "code",
   "execution_count": 110,
   "metadata": {},
   "outputs": [],
   "source": [
    "submission = pd.DataFrame()\n",
    "submission['PassengerId'] = test['PassengerId']\n",
    "submission['Survived'] = test_pred"
   ]
  },
  {
   "cell_type": "code",
   "execution_count": 115,
   "metadata": {},
   "outputs": [],
   "source": [
    "submission.to_csv('datasets/titanic/submission.csv', index_label=False, index=False)"
   ]
  },
  {
   "cell_type": "markdown",
   "metadata": {},
   "source": [
    "This submission scored 72.7% on the Kaggle leaderboard. This is not bad but could be much better, considering some submissions have 100% accuracy (but maybe these know something I don't). For the purpose of this practise, I think it was helpful.\n",
    "\n",
    "The main thing I have learned from this dataset is how much of a pain missing values can be."
   ]
  },
  {
   "cell_type": "code",
   "execution_count": 116,
   "metadata": {},
   "outputs": [
    {
     "data": {
      "text/plain": [
       "0    549\n",
       "1    340\n",
       "Name: Survived, dtype: int64"
      ]
     },
     "execution_count": 116,
     "metadata": {},
     "output_type": "execute_result"
    }
   ],
   "source": [
    "train['Survived'].value_counts()"
   ]
  },
  {
   "cell_type": "code",
   "execution_count": 118,
   "metadata": {},
   "outputs": [
    {
     "name": "stdout",
     "output_type": "stream",
     "text": [
      "0.6175478065241845\n"
     ]
    }
   ],
   "source": [
    "print(549/(549+340))"
   ]
  },
  {
   "cell_type": "markdown",
   "metadata": {},
   "source": [
    "We can see that even if you just assume everyone dies, the accuracy is still 62%, so we have only improved from this accuracy by about 10%. In fact, by predicting that all men die and all women survive acually gets you a score of 78% so my model is even worse."
   ]
  },
  {
   "cell_type": "code",
   "execution_count": 122,
   "metadata": {},
   "outputs": [],
   "source": [
    "submission2 = pd.DataFrame()\n",
    "submission2['PassengerId'] = test['PassengerId']\n",
    "submission2['Survived'] = np.zeros((418,))\n",
    "submission2.to_csv('datasets/titanic/submission2.csv', index_label=False, index=False)"
   ]
  },
  {
   "cell_type": "code",
   "execution_count": 138,
   "metadata": {},
   "outputs": [],
   "source": [
    "y = (X_test_prepared[:, -1].astype(int) != 1)"
   ]
  },
  {
   "cell_type": "code",
   "execution_count": 142,
   "metadata": {},
   "outputs": [],
   "source": [
    "y = y.astype(int)"
   ]
  },
  {
   "cell_type": "code",
   "execution_count": 143,
   "metadata": {},
   "outputs": [],
   "source": [
    "submission3 = pd.DataFrame()\n",
    "submission3['PassengerId'] = test['PassengerId']\n",
    "submission3['Survived'] = y\n",
    "submission3.to_csv('datasets/titanic/submission3.csv', index_label=False, index=False)"
   ]
  },
  {
   "cell_type": "markdown",
   "metadata": {},
   "source": [
    "By letting all men die and women survive, my model is actualy better than the random forest model. So we know that Sex is a strong influence on wether someone lives or not. The next most important feature was Fare."
   ]
  },
  {
   "cell_type": "code",
   "execution_count": 149,
   "metadata": {},
   "outputs": [
    {
     "data": {
      "text/plain": [
       "GridSearchCV(cv=3, error_score='raise',\n",
       "       estimator=RandomForestClassifier(bootstrap=True, class_weight=None, criterion='gini',\n",
       "            max_depth=None, max_features='auto', max_leaf_nodes=None,\n",
       "            min_impurity_decrease=0.0, min_impurity_split=None,\n",
       "            min_samples_leaf=1, min_samples_split=2,\n",
       "            min_weight_fraction_leaf=0.0, n_estimators=10, n_jobs=1,\n",
       "            oob_score=False, random_state=None, verbose=0,\n",
       "            warm_start=False),\n",
       "       fit_params=None, iid=True, n_jobs=1,\n",
       "       param_grid=[{'n_estimators': [30, 32, 34, 36, 38, 40]}],\n",
       "       pre_dispatch='2*n_jobs', refit=True, return_train_score='warn',\n",
       "       scoring='accuracy', verbose=0)"
      ]
     },
     "execution_count": 149,
     "metadata": {},
     "output_type": "execute_result"
    }
   ],
   "source": [
    "important_num_attr = ['Age']\n",
    "\n",
    "num_pipeline_new = Pipeline([\n",
    "    ('Selector', AttributeSelector(important_num_attr)),\n",
    "    ('imputer', Imputer(strategy=\"mean\")),\n",
    "    ('scaler', StandardScaler()),\n",
    "])\n",
    "\n",
    "sex_pipeline_new = Pipeline([\n",
    "    ('Selector', AttributeSelector(sex_attr)),\n",
    "    ('encoder', ModifiedLabelEncoder()),\n",
    "])\n",
    "\n",
    "new_pipeline = FeatureUnion(transformer_list=[\n",
    "    ('num_pipeline', num_pipeline_new),\n",
    "    ('sex_pipeline', sex_pipeline_new),\n",
    "])\n",
    "\n",
    "titanic_prepared_new = sex_pipeline_new.fit_transform(X_train)\n",
    "\n",
    "forest_clf = RandomForestClassifier()\n",
    "params = [\n",
    "    {'n_estimators': [30, 32, 34, 36, 38, 40]},\n",
    "]\n",
    "grid_search = GridSearchCV(forest_clf, param_grid=params, cv=3, scoring='accuracy')\n",
    "grid_search.fit(titanic_prepared_new, y_train.values.ravel())"
   ]
  },
  {
   "cell_type": "code",
   "execution_count": 151,
   "metadata": {},
   "outputs": [],
   "source": [
    "X_test_new = sex_pipeline_new.transform(test)\n",
    "\n",
    "y2 = grid_search.best_estimator_.predict(X_test_new)\n",
    "\n",
    "submission4 = pd.DataFrame()\n",
    "submission4['PassengerId'] = test['PassengerId']\n",
    "submission4['Survived'] = y2\n",
    "submission4.to_csv('datasets/titanic/submission4.csv', index_label=False, index=False)"
   ]
  },
  {
   "cell_type": "markdown",
   "metadata": {},
   "source": [
    "Whenever I add a attribute as well as Sex, the score decreases. I need to perform some feature engineering to come up with a more representable feature.\n",
    "\n",
    "Perhaps we can look at the fare and deduce the social status of the passenger. Or classifiy the passenger as child, adult and senior to make a general age attribute."
   ]
  },
  {
   "cell_type": "code",
   "execution_count": 152,
   "metadata": {},
   "outputs": [
    {
     "data": {
      "text/plain": [
       "<matplotlib.axes._subplots.AxesSubplot at 0x1d32503fda0>"
      ]
     },
     "execution_count": 152,
     "metadata": {},
     "output_type": "execute_result"
    },
    {
     "data": {
      "image/png": "[encoded data removed]",
      "text/plain": [
       "<Figure size 432x288 with 1 Axes>"
      ]
     },
     "metadata": {},
     "output_type": "display_data"
    }
   ],
   "source": [
    "train['Age'].hist()"
   ]
  },
  {
   "cell_type": "code",
   "execution_count": 161,
   "metadata": {},
   "outputs": [
    {
     "data": {
      "text/plain": [
       "<matplotlib.axes._subplots.AxesSubplot at 0x1d3253ee630>"
      ]
     },
     "execution_count": 161,
     "metadata": {},
     "output_type": "execute_result"
    },
    {
     "data": {
      "image/png": "[encoded data removed]",
      "text/plain": [
       "<Figure size 432x288 with 1 Axes>"
      ]
     },
     "metadata": {},
     "output_type": "display_data"
    }
   ],
   "source": [
    "bins = np.arange(0, 80, 5)\n",
    "\n",
    "train.loc[train['Survived'] == 0]['Age'].hist(bins=bins)\n",
    "train.loc[train['Survived'] == 1]['Age'].hist(alpha=0.4, bins=bins)"
   ]
  },
  {
   "cell_type": "markdown",
   "metadata": {},
   "source": [
    "What this histogram shows is the number of passengers in different age groups that survived (orange) and died (blue). What we see is that for under 10s, the majority survived. ie, for infants. However, for the others, the majority died. Especially in the middle section (15-40). I will now cetegorise the ages into these 3 groups."
   ]
  },
  {
   "cell_type": "code",
   "execution_count": 169,
   "metadata": {},
   "outputs": [],
   "source": [
    "infants = (train['Age'] < 10).astype(int)\n",
    "adults = (train['Age'] <= 40).astype(int)\n",
    "seniors = (train['Age'] <= 100).astype(int)"
   ]
  },
  {
   "cell_type": "code",
   "execution_count": 170,
   "metadata": {},
   "outputs": [],
   "source": [
    "age_cat = infants + adults + seniors"
   ]
  },
  {
   "cell_type": "code",
   "execution_count": 174,
   "metadata": {},
   "outputs": [],
   "source": [
    "train['Age Cat'] = age_cat\n",
    "y_train = train['Survived'].values.ravel()"
   ]
  },
  {
   "cell_type": "code",
   "execution_count": 178,
   "metadata": {},
   "outputs": [
    {
     "data": {
      "text/plain": [
       "GridSearchCV(cv=3, error_score='raise',\n",
       "       estimator=RandomForestClassifier(bootstrap=True, class_weight=None, criterion='gini',\n",
       "            max_depth=None, max_features='auto', max_leaf_nodes=None,\n",
       "            min_impurity_decrease=0.0, min_impurity_split=None,\n",
       "            min_samples_leaf=1, min_samples_split=2,\n",
       "            min_weight_fraction_leaf=0.0, n_estimators=10, n_jobs=1,\n",
       "            oob_score=False, random_state=None, verbose=0,\n",
       "            warm_start=False),\n",
       "       fit_params=None, iid=True, n_jobs=1,\n",
       "       param_grid=[{'n_estimators': [10, 20, 30, 40]}],\n",
       "       pre_dispatch='2*n_jobs', refit=True, return_train_score='warn',\n",
       "       scoring='accuracy', verbose=0)"
      ]
     },
     "execution_count": 178,
     "metadata": {},
     "output_type": "execute_result"
    }
   ],
   "source": [
    "important_num_attr = ['Age Cat']\n",
    "\n",
    "num_pipeline_new = Pipeline([\n",
    "    ('Selector', AttributeSelector(important_num_attr)),\n",
    "])\n",
    "\n",
    "sex_pipeline_new = Pipeline([\n",
    "    ('Selector', AttributeSelector(sex_attr)),\n",
    "    ('encoder', ModifiedLabelEncoder()),\n",
    "])\n",
    "\n",
    "new_pipeline = FeatureUnion(transformer_list=[\n",
    "    ('num_pipeline', num_pipeline_new),\n",
    "    ('sex_pipeline', sex_pipeline_new),\n",
    "])\n",
    "\n",
    "titanic_prepared_new = new_pipeline.fit_transform(train)\n",
    "\n",
    "forest_clf = RandomForestClassifier()\n",
    "params = [\n",
    "    {'n_estimators': [10, 20, 30, 40]},\n",
    "]\n",
    "grid_search = GridSearchCV(forest_clf, param_grid=params, cv=3, scoring='accuracy')\n",
    "grid_search.fit(titanic_prepared_new, y_train)"
   ]
  },
  {
   "cell_type": "code",
   "execution_count": 179,
   "metadata": {},
   "outputs": [],
   "source": [
    "infants = (test['Age'] < 10).astype(int)\n",
    "adults = (test['Age'] <= 40).astype(int)\n",
    "seniors = (test['Age'] <= 100).astype(int)\n",
    "test['Age Cat'] = infants + adults + seniors\n",
    "\n",
    "X_test_new = new_pipeline.transform(test)\n",
    "\n",
    "y2 = grid_search.best_estimator_.predict(X_test_new)\n",
    "\n",
    "submission5 = pd.DataFrame()\n",
    "submission5['PassengerId'] = test['PassengerId']\n",
    "submission5['Survived'] = y2\n",
    "submission5.to_csv('datasets/titanic/submission5.csv', index_label=False, index=False)"
   ]
  },
  {
   "cell_type": "markdown",
   "metadata": {},
   "source": [
    "this slightly improved the model! Lets do the same thing for Fare:"
   ]
  },
  {
   "cell_type": "code",
   "execution_count": 184,
   "metadata": {},
   "outputs": [
    {
     "data": {
      "text/plain": [
       "<matplotlib.axes._subplots.AxesSubplot at 0x1d3268e9eb8>"
      ]
     },
     "execution_count": 184,
     "metadata": {},
     "output_type": "execute_result"
    },
    {
     "data": {
      "image/png": "[encoded data removed]",
      "text/plain": [
       "<Figure size 432x288 with 1 Axes>"
      ]
     },
     "metadata": {},
     "output_type": "display_data"
    }
   ],
   "source": [
    "bins = np.arange(0, 300, 10)\n",
    "\n",
    "train.loc[train['Survived'] == 0]['Fare'].hist(bins=bins)\n",
    "train.loc[train['Survived'] == 1]['Fare'].hist(alpha=0.4, bins=bins)"
   ]
  },
  {
   "cell_type": "markdown",
   "metadata": {},
   "source": [
    "Here we can also see that the lower fare people tended to die, while the mojority of high fare passengers survived. Lets make categories for these ones aswell. I will have two categories for this, rich and poor (<$50 fare)."
   ]
  },
  {
   "cell_type": "code",
   "execution_count": 192,
   "metadata": {},
   "outputs": [
    {
     "data": {
      "text/plain": [
       "<matplotlib.axes._subplots.AxesSubplot at 0x1d326cc4f60>"
      ]
     },
     "execution_count": 192,
     "metadata": {},
     "output_type": "execute_result"
    },
    {
     "data": {
      "image/png": "[encoded data removed]",
      "text/plain": [
       "<Figure size 432x288 with 1 Axes>"
      ]
     },
     "metadata": {},
     "output_type": "display_data"
    }
   ],
   "source": [
    "bins = np.arange(0, 4, 0.5)\n",
    "\n",
    "train.loc[train['Survived'] == 0]['Pclass'].hist(bins=bins)\n",
    "train.loc[train['Survived'] == 1]['Pclass'].hist(alpha=0.4, bins=bins)"
   ]
  },
  {
   "cell_type": "markdown",
   "metadata": {},
   "source": [
    "Here we also see that Pclass gives a good indication of death or not. THe 3rd class passengers are extremely likely to die, while 1st class a more likely to survive."
   ]
  },
  {
   "cell_type": "code",
   "execution_count": 193,
   "metadata": {},
   "outputs": [],
   "source": [
    "train['Fare cat'] = (train['Fare'] < 50).astype(int)"
   ]
  },
  {
   "cell_type": "code",
   "execution_count": 194,
   "metadata": {},
   "outputs": [
    {
     "data": {
      "text/plain": [
       "GridSearchCV(cv=3, error_score='raise',\n",
       "       estimator=RandomForestClassifier(bootstrap=True, class_weight=None, criterion='gini',\n",
       "            max_depth=None, max_features='auto', max_leaf_nodes=None,\n",
       "            min_impurity_decrease=0.0, min_impurity_split=None,\n",
       "            min_samples_leaf=1, min_samples_split=2,\n",
       "            min_weight_fraction_leaf=0.0, n_estimators=10, n_jobs=1,\n",
       "            oob_score=False, random_state=None, verbose=0,\n",
       "            warm_start=False),\n",
       "       fit_params=None, iid=True, n_jobs=1,\n",
       "       param_grid=[{'n_estimators': [10, 20, 30, 40]}],\n",
       "       pre_dispatch='2*n_jobs', refit=True, return_train_score='warn',\n",
       "       scoring='accuracy', verbose=0)"
      ]
     },
     "execution_count": 194,
     "metadata": {},
     "output_type": "execute_result"
    }
   ],
   "source": [
    "important_num_attr = ['Age Cat', 'Fare cat', 'Pclass']\n",
    "\n",
    "num_pipeline_new = Pipeline([\n",
    "    ('Selector', AttributeSelector(important_num_attr)),\n",
    "])\n",
    "\n",
    "sex_pipeline_new = Pipeline([\n",
    "    ('Selector', AttributeSelector(sex_attr)),\n",
    "    ('encoder', ModifiedLabelEncoder()),\n",
    "])\n",
    "\n",
    "new_pipeline = FeatureUnion(transformer_list=[\n",
    "    ('num_pipeline', num_pipeline_new),\n",
    "    ('sex_pipeline', sex_pipeline_new),\n",
    "])\n",
    "\n",
    "titanic_prepared_new = new_pipeline.fit_transform(train)\n",
    "\n",
    "forest_clf = RandomForestClassifier()\n",
    "params = [\n",
    "    {'n_estimators': [10, 20, 30, 40]},\n",
    "]\n",
    "grid_search = GridSearchCV(forest_clf, param_grid=params, cv=3, scoring='accuracy')\n",
    "grid_search.fit(titanic_prepared_new, y_train)"
   ]
  },
  {
   "cell_type": "code",
   "execution_count": 195,
   "metadata": {},
   "outputs": [],
   "source": [
    "test['Fare cat'] = (test['Fare'] < 50).astype(int)\n",
    "\n",
    "X_test_new = new_pipeline.transform(test)\n",
    "\n",
    "y2 = grid_search.best_estimator_.predict(X_test_new)\n",
    "\n",
    "submission6 = pd.DataFrame()\n",
    "submission6['PassengerId'] = test['PassengerId']\n",
    "submission6['Survived'] = y2\n",
    "submission6.to_csv('datasets/titanic/submission6.csv', index_label=False, index=False)"
   ]
  },
  {
   "cell_type": "code",
   "execution_count": 196,
   "metadata": {},
   "outputs": [
    {
     "data": {
      "text/plain": [
       "array([0.13483391, 0.06812768, 0.21891971, 0.57811871])"
      ]
     },
     "execution_count": 196,
     "metadata": {},
     "output_type": "execute_result"
    }
   ],
   "source": [
    "grid_search.best_estimator_.feature_importances_"
   ]
  },
  {
   "cell_type": "markdown",
   "metadata": {},
   "source": [
    "The score actually went down! According to the feature importances, the Pclass and Sex are the most important."
   ]
  },
  {
   "cell_type": "code",
   "execution_count": 197,
   "metadata": {},
   "outputs": [
    {
     "data": {
      "text/plain": [
       "GridSearchCV(cv=3, error_score='raise',\n",
       "       estimator=RandomForestClassifier(bootstrap=True, class_weight=None, criterion='gini',\n",
       "            max_depth=None, max_features='auto', max_leaf_nodes=None,\n",
       "            min_impurity_decrease=0.0, min_impurity_split=None,\n",
       "            min_samples_leaf=1, min_samples_split=2,\n",
       "            min_weight_fraction_leaf=0.0, n_estimators=10, n_jobs=1,\n",
       "            oob_score=False, random_state=None, verbose=0,\n",
       "            warm_start=False),\n",
       "       fit_params=None, iid=True, n_jobs=1,\n",
       "       param_grid=[{'n_estimators': [10, 20, 30, 40]}],\n",
       "       pre_dispatch='2*n_jobs', refit=True, return_train_score='warn',\n",
       "       scoring='accuracy', verbose=0)"
      ]
     },
     "execution_count": 197,
     "metadata": {},
     "output_type": "execute_result"
    }
   ],
   "source": [
    "important_num_attr = ['Pclass']\n",
    "\n",
    "num_pipeline_new = Pipeline([\n",
    "    ('Selector', AttributeSelector(important_num_attr)),\n",
    "])\n",
    "\n",
    "sex_pipeline_new = Pipeline([\n",
    "    ('Selector', AttributeSelector(sex_attr)),\n",
    "    ('encoder', ModifiedLabelEncoder()),\n",
    "])\n",
    "\n",
    "new_pipeline = FeatureUnion(transformer_list=[\n",
    "    ('num_pipeline', num_pipeline_new),\n",
    "    ('sex_pipeline', sex_pipeline_new),\n",
    "])\n",
    "\n",
    "titanic_prepared_new = new_pipeline.fit_transform(train)\n",
    "\n",
    "forest_clf = RandomForestClassifier()\n",
    "params = [\n",
    "    {'n_estimators': [10, 20, 30, 40]},\n",
    "]\n",
    "grid_search = GridSearchCV(forest_clf, param_grid=params, cv=3, scoring='accuracy')\n",
    "grid_search.fit(titanic_prepared_new, y_train)"
   ]
  },
  {
   "cell_type": "code",
   "execution_count": 198,
   "metadata": {},
   "outputs": [],
   "source": [
    "X_test_new = new_pipeline.transform(test)\n",
    "\n",
    "y2 = grid_search.best_estimator_.predict(X_test_new)\n",
    "\n",
    "submission6 = pd.DataFrame()\n",
    "submission6['PassengerId'] = test['PassengerId']\n",
    "submission6['Survived'] = y2\n",
    "submission6.to_csv('datasets/titanic/submission6.csv', index_label=False, index=False)"
   ]
  },
  {
   "cell_type": "code",
   "execution_count": null,
   "metadata": {},
   "outputs": [],
   "source": []
  }
 ],
 "metadata": {
  "kernelspec": {
   "display_name": "Python 3",
   "language": "python",
   "name": "python3"
  },
  "language_info": {
   "codemirror_mode": {
    "name": "ipython",
    "version": 3
   },
   "file_extension": ".py",
   "mimetype": "text/x-python",
   "name": "python",
   "nbconvert_exporter": "python",
   "pygments_lexer": "ipython3",
   "version": "3.6.5"
  }
 },
 "nbformat": 4,
 "nbformat_minor": 2
}
